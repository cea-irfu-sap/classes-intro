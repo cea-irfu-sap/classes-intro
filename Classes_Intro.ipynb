{
 "cells": [
  {
   "cell_type": "code",
   "execution_count": 1,
   "metadata": {
    "collapsed": false
   },
   "outputs": [],
   "source": [
    "from __future__ import division, print_function, unicode_literals"
   ]
  },
  {
   "cell_type": "markdown",
   "metadata": {},
   "source": [
    "# Introduction to object-oriented programming : classes and objects\n",
    "\n",
    "Olivier Iffrig, SAp/LMPA\n",
    "\n",
    "License: CC-BY-SA\n",
    "\n",
    "## Basic concepts\n",
    "\n",
    "### Objects\n",
    "\n",
    "On object is an abstract construct to which a specific meaning has been given. It can be, for instance:\n",
    "\n",
    "* a container (`list`, `dict`, `numpy.ndarray`, ...)\n",
    "* a data stream (`sys.stdout`, `file`, ...)\n",
    "* a record (`complex`, ...)\n",
    "\n",
    "or any combination of these. The idea being that two objects of the same type behave the same way.\n",
    "\n",
    "Objects can have **attributes**, some values attached to them:"
   ]
  },
  {
   "cell_type": "code",
   "execution_count": 2,
   "metadata": {
    "collapsed": false
   },
   "outputs": [
    {
     "name": "stdout",
     "output_type": "stream",
     "text": [
      "1.0 2.0\n"
     ]
    }
   ],
   "source": [
    "z = 1 + 2j\n",
    "print(z.real, z.imag) # `real` and `imag` are two attributes of `complex` objects"
   ]
  },
  {
   "cell_type": "markdown",
   "metadata": {},
   "source": [
    "Attributes may or may not be mutable, depending on the object. Such attributes can also be functions acting on the object itself (remember that in Python, a function is a value by itself), in that case they are called **methods**:"
   ]
  },
  {
   "cell_type": "code",
   "execution_count": 3,
   "metadata": {
    "collapsed": false
   },
   "outputs": [
    {
     "name": "stdout",
     "output_type": "stream",
     "text": [
      "[1, 2, 3, 5]\n"
     ]
    }
   ],
   "source": [
    "lst = [1, 2, 3]\n",
    "lst.append(5) # `append` is a method of `list` objects\n",
    "print(lst)"
   ]
  },
  {
   "cell_type": "markdown",
   "metadata": {},
   "source": [
    "In fact, in Python, everything you manipulate is an object, including integers, strings, lists, ...\n",
    "\n",
    "### Classes\n",
    "\n",
    "I said that two objects of the same type behave the same way. But what is the type of an object?"
   ]
  },
  {
   "cell_type": "code",
   "execution_count": 4,
   "metadata": {
    "collapsed": false
   },
   "outputs": [
    {
     "data": {
      "text/plain": [
       "int"
      ]
     },
     "execution_count": 4,
     "metadata": {},
     "output_type": "execute_result"
    }
   ],
   "source": [
    "type(1)"
   ]
  },
  {
   "cell_type": "markdown",
   "metadata": {},
   "source": [
    "Ok, `1` is an `int`. No surprise so far. Note however that `int` is also an object. But what is an `int`?"
   ]
  },
  {
   "cell_type": "code",
   "execution_count": 5,
   "metadata": {
    "collapsed": false
   },
   "outputs": [
    {
     "data": {
      "text/plain": [
       "type"
      ]
     },
     "execution_count": 5,
     "metadata": {},
     "output_type": "execute_result"
    }
   ],
   "source": [
    "type(int)"
   ]
  },
  {
   "cell_type": "markdown",
   "metadata": {},
   "source": [
    "This becomes more interesting. `int` is an object of type `type` (which is also an object). You may want to ask: can we define an object of type `type` in the same way we define an object of type `int` ? The answer to this is what we call a **class**. A class is a Python object which defines a type."
   ]
  },
  {
   "cell_type": "code",
   "execution_count": 6,
   "metadata": {
    "collapsed": false
   },
   "outputs": [
    {
     "data": {
      "text/plain": [
       "type"
      ]
     },
     "execution_count": 6,
     "metadata": {},
     "output_type": "execute_result"
    }
   ],
   "source": [
    "class A(object):\n",
    "    pass # We'll see later what we can put here\n",
    "type(A)"
   ]
  },
  {
   "cell_type": "markdown",
   "metadata": {},
   "source": [
    "***Note*** *: I put* `(object)` *behind the name of the class* `A` *I defined. This is what we call a **new-style class**, it will become the default in Python 3, so let's forget about **old-style classes**. For now, just remember to put it in whatever class you define*"
   ]
  },
  {
   "cell_type": "markdown",
   "metadata": {},
   "source": [
    "So a **class** is a type. You may wonder why we use different names though. Object-oriented programming is not a Python-specific concepts, and some programming languages may make the difference between built-in types (like integers) and user-defined classes. Actually, it is the case with old-style classes too. But don't worry too much. The only thing you have to know is that to define a custom type, you have to use the `class` keyword.\n",
    "\n",
    "### Running exercise\n",
    "\n",
    "With the workshop files, there is a `pulsar.py` file. For the moment it only contains module imports and some empty testing functions. The goal is to define a Pulsar class with interesting abilities. All paragraphs starting with a <i class=\"fa fa-pencil fa-flip-horizontal\"></i> pencil icon will require you to work on that file.\n",
    "\n",
    "You can run the script to get a small interface to run the tests.\n",
    "\n",
    "<i class=\"fa fa-pull-left fa-pencil fa-2x fa-lg fa-flip-horizontal\"></i> Create the `Pulsar` class. You can run the `class` test to check if everything went well.\n",
    "\n",
    "### Instances\n",
    "\n",
    "Now that we created a class `A`, we would also like to create objects of type `A`. It's really simple to do that, because A can be \"called\" just like you would call a function:"
   ]
  },
  {
   "cell_type": "code",
   "execution_count": 7,
   "metadata": {
    "collapsed": false
   },
   "outputs": [
    {
     "data": {
      "text/plain": [
       "__main__.A"
      ]
     },
     "execution_count": 7,
     "metadata": {},
     "output_type": "execute_result"
    }
   ],
   "source": [
    "a = A()\n",
    "type(a)"
   ]
  },
  {
   "cell_type": "markdown",
   "metadata": {},
   "source": [
    "The object `a` we just created is called an **instance** of the class `A`. Thus, the two following statements are equivalent:\n",
    "* `a` is an object of type `A`,\n",
    "* `a` is an **instance** of class `A`.\n",
    "\n",
    "In abstract object-oriented programming theory, the word *instance* is widely used.\n",
    "\n",
    "<i class=\"fa fa-pull-left fa-pencil fa-2x fa-lg fa-flip-horizontal\"></i> Write and test the code of the `test_instance` function. \n",
    "\n",
    "### Attributes\n",
    "\n",
    "We said that an object can have **attributes**. Let's investigate. We use the built-in function `dir` for that:"
   ]
  },
  {
   "cell_type": "code",
   "execution_count": 8,
   "metadata": {
    "collapsed": false
   },
   "outputs": [
    {
     "name": "stdout",
     "output_type": "stream",
     "text": [
      "Help on built-in function dir in module __builtin__:\n",
      "\n",
      "dir(...)\n",
      "    dir([object]) -> list of strings\n",
      "    \n",
      "    If called without an argument, return the names in the current scope.\n",
      "    Else, return an alphabetized list of names comprising (some of) the attributes\n",
      "    of the given object, and of attributes reachable from it.\n",
      "    If the object supplies a method named __dir__, it will be used; otherwise\n",
      "    the default dir() logic is used and returns:\n",
      "      for a module object: the module's attributes.\n",
      "      for a class object:  its attributes, and recursively the attributes\n",
      "        of its bases.\n",
      "      for any other object: its attributes, its class's attributes, and\n",
      "        recursively the attributes of its class's base classes.\n",
      "\n"
     ]
    }
   ],
   "source": [
    "help(dir)"
   ]
  },
  {
   "cell_type": "markdown",
   "metadata": {},
   "source": [
    "Let's try:"
   ]
  },
  {
   "cell_type": "code",
   "execution_count": 9,
   "metadata": {
    "collapsed": false
   },
   "outputs": [
    {
     "data": {
      "text/plain": [
       "['__abs__',\n",
       " '__add__',\n",
       " '__class__',\n",
       " '__coerce__',\n",
       " '__delattr__',\n",
       " '__div__',\n",
       " '__divmod__',\n",
       " '__doc__',\n",
       " '__eq__',\n",
       " '__float__',\n",
       " '__floordiv__',\n",
       " '__format__',\n",
       " '__ge__',\n",
       " '__getattribute__',\n",
       " '__getnewargs__',\n",
       " '__gt__',\n",
       " '__hash__',\n",
       " '__init__',\n",
       " '__int__',\n",
       " '__le__',\n",
       " '__long__',\n",
       " '__lt__',\n",
       " '__mod__',\n",
       " '__mul__',\n",
       " '__ne__',\n",
       " '__neg__',\n",
       " '__new__',\n",
       " '__nonzero__',\n",
       " '__pos__',\n",
       " '__pow__',\n",
       " '__radd__',\n",
       " '__rdiv__',\n",
       " '__rdivmod__',\n",
       " '__reduce__',\n",
       " '__reduce_ex__',\n",
       " '__repr__',\n",
       " '__rfloordiv__',\n",
       " '__rmod__',\n",
       " '__rmul__',\n",
       " '__rpow__',\n",
       " '__rsub__',\n",
       " '__rtruediv__',\n",
       " '__setattr__',\n",
       " '__sizeof__',\n",
       " '__str__',\n",
       " '__sub__',\n",
       " '__subclasshook__',\n",
       " '__truediv__',\n",
       " 'conjugate',\n",
       " 'imag',\n",
       " 'real']"
      ]
     },
     "execution_count": 9,
     "metadata": {},
     "output_type": "execute_result"
    }
   ],
   "source": [
    "dir(z)"
   ]
  },
  {
   "cell_type": "markdown",
   "metadata": {},
   "source": [
    "That's a lot of attributes. You may have noticed that many of them have double underscores at the beginning and at the end. In Python, such names mean special things. We will come back to this later. Let's focus on the last attributes:\n",
    "\n",
    "As we already saw, `real` and `imag` contain the real and imaginary part of a complex number.\n",
    "\n",
    "For non built-in objects, unless some restriction has been enforced, you can add attributes directly to an instance."
   ]
  },
  {
   "cell_type": "code",
   "execution_count": 10,
   "metadata": {
    "collapsed": false
   },
   "outputs": [
    {
     "data": {
      "text/plain": [
       "['__class__',\n",
       " '__delattr__',\n",
       " '__dict__',\n",
       " '__doc__',\n",
       " '__format__',\n",
       " '__getattribute__',\n",
       " '__hash__',\n",
       " '__init__',\n",
       " '__module__',\n",
       " '__new__',\n",
       " '__reduce__',\n",
       " '__reduce_ex__',\n",
       " '__repr__',\n",
       " '__setattr__',\n",
       " '__sizeof__',\n",
       " '__str__',\n",
       " '__subclasshook__',\n",
       " '__weakref__',\n",
       " 'foo']"
      ]
     },
     "execution_count": 10,
     "metadata": {},
     "output_type": "execute_result"
    }
   ],
   "source": [
    "a.foo = 3\n",
    "dir(a)"
   ]
  },
  {
   "cell_type": "code",
   "execution_count": 11,
   "metadata": {
    "collapsed": false
   },
   "outputs": [
    {
     "data": {
      "text/plain": [
       "3"
      ]
     },
     "execution_count": 11,
     "metadata": {},
     "output_type": "execute_result"
    }
   ],
   "source": [
    "a.foo"
   ]
  },
  {
   "cell_type": "markdown",
   "metadata": {},
   "source": [
    "Congratulations ! You've just added an attribute to an instance. Note that it is **not** an attribute of the class itself. Usually you will not add attributes to classes \"from the outside\". We'll come back to that later.\n",
    "\n",
    "<i class=\"fa fa-pull-left fa-pencil fa-2x fa-lg fa-flip-horizontal\"></i> In the `test_attribute` function, try to create a `Pulsar` instance and add a `name` attribute to it.\n",
    "\n",
    "Back to the `complex` type. There's also an attribute called `conjugate`. Let's see what it contains:"
   ]
  },
  {
   "cell_type": "code",
   "execution_count": 12,
   "metadata": {
    "collapsed": false
   },
   "outputs": [
    {
     "data": {
      "text/plain": [
       "<function conjugate>"
      ]
     },
     "execution_count": 12,
     "metadata": {},
     "output_type": "execute_result"
    }
   ],
   "source": [
    "z.conjugate"
   ]
  },
  {
   "cell_type": "markdown",
   "metadata": {},
   "source": [
    "That's a function. As I said, an attribute which is a function is called a **method**.\n",
    "\n",
    "### Methods\n",
    "\n",
    "Methods are special attributes, which in fact are functions. Let's look for extra information:"
   ]
  },
  {
   "cell_type": "code",
   "execution_count": 13,
   "metadata": {
    "collapsed": false
   },
   "outputs": [
    {
     "name": "stdout",
     "output_type": "stream",
     "text": [
      "Help on built-in function conjugate:\n",
      "\n",
      "conjugate(...)\n",
      "    complex.conjugate() -> complex\n",
      "    \n",
      "    Return the complex conjugate of its argument. (3-4j).conjugate() == 3+4j.\n",
      "\n"
     ]
    }
   ],
   "source": [
    "help(z.conjugate)"
   ]
  },
  {
   "cell_type": "code",
   "execution_count": 14,
   "metadata": {
    "collapsed": false
   },
   "outputs": [
    {
     "name": "stdout",
     "output_type": "stream",
     "text": [
      "(1+2j) (1-2j)\n"
     ]
    }
   ],
   "source": [
    "print(z, z.conjugate())"
   ]
  },
  {
   "cell_type": "markdown",
   "metadata": {},
   "source": [
    "Thats a bit strange, don't you think ? Usually we call functions like `conjugate(z)`. Here, we said `z.conjugate()` instead... If you look at the documentation, you see the method is actually named `complex.conjugate`. Remember when I said that instances of the same class behave the same way? The `conjugate` method is common to all `complex` objects."
   ]
  },
  {
   "cell_type": "code",
   "execution_count": 15,
   "metadata": {
    "collapsed": false
   },
   "outputs": [
    {
     "data": {
      "text/plain": [
       "<method 'conjugate' of 'complex' objects>"
      ]
     },
     "execution_count": 15,
     "metadata": {},
     "output_type": "execute_result"
    }
   ],
   "source": [
    "complex.conjugate"
   ]
  },
  {
   "cell_type": "markdown",
   "metadata": {},
   "source": [
    "In fact, I could have called this method directly:"
   ]
  },
  {
   "cell_type": "code",
   "execution_count": 16,
   "metadata": {
    "collapsed": false
   },
   "outputs": [
    {
     "data": {
      "text/plain": [
       "(1-2j)"
      ]
     },
     "execution_count": 16,
     "metadata": {},
     "output_type": "execute_result"
    }
   ],
   "source": [
    "complex.conjugate(z)"
   ]
  },
  {
   "cell_type": "markdown",
   "metadata": {},
   "source": [
    "We'll come back to the purpose of this later. For now, let's see what's inside `complex`:"
   ]
  },
  {
   "cell_type": "code",
   "execution_count": 17,
   "metadata": {
    "collapsed": false
   },
   "outputs": [
    {
     "data": {
      "text/plain": [
       "['__abs__',\n",
       " '__add__',\n",
       " '__class__',\n",
       " '__coerce__',\n",
       " '__delattr__',\n",
       " '__div__',\n",
       " '__divmod__',\n",
       " '__doc__',\n",
       " '__eq__',\n",
       " '__float__',\n",
       " '__floordiv__',\n",
       " '__format__',\n",
       " '__ge__',\n",
       " '__getattribute__',\n",
       " '__getnewargs__',\n",
       " '__gt__',\n",
       " '__hash__',\n",
       " '__init__',\n",
       " '__int__',\n",
       " '__le__',\n",
       " '__long__',\n",
       " '__lt__',\n",
       " '__mod__',\n",
       " '__mul__',\n",
       " '__ne__',\n",
       " '__neg__',\n",
       " '__new__',\n",
       " '__nonzero__',\n",
       " '__pos__',\n",
       " '__pow__',\n",
       " '__radd__',\n",
       " '__rdiv__',\n",
       " '__rdivmod__',\n",
       " '__reduce__',\n",
       " '__reduce_ex__',\n",
       " '__repr__',\n",
       " '__rfloordiv__',\n",
       " '__rmod__',\n",
       " '__rmul__',\n",
       " '__rpow__',\n",
       " '__rsub__',\n",
       " '__rtruediv__',\n",
       " '__setattr__',\n",
       " '__sizeof__',\n",
       " '__str__',\n",
       " '__sub__',\n",
       " '__subclasshook__',\n",
       " '__truediv__',\n",
       " 'conjugate',\n",
       " 'imag',\n",
       " 'real']"
      ]
     },
     "execution_count": 17,
     "metadata": {},
     "output_type": "execute_result"
    }
   ],
   "source": [
    "dir(complex)"
   ]
  },
  {
   "cell_type": "markdown",
   "metadata": {},
   "source": [
    "Once again, there are a lot of special attributes, the `conjugate` attribute we already saw, but also `real` and `imag`."
   ]
  },
  {
   "cell_type": "code",
   "execution_count": 18,
   "metadata": {
    "collapsed": false,
    "scrolled": true
   },
   "outputs": [
    {
     "data": {
      "text/plain": [
       "<member 'real' of 'complex' objects>"
      ]
     },
     "execution_count": 18,
     "metadata": {},
     "output_type": "execute_result"
    }
   ],
   "source": [
    "complex.real"
   ]
  },
  {
   "cell_type": "markdown",
   "metadata": {},
   "source": [
    "This one is more abstract... Because `complex` is a built-in class (there is no Python source defining it as a class), its members have to be declared. For user-defined classes, we can also \"declare\" attributes inside the class, that is, we can define them there.\n",
    "\n",
    "### Define your own attributes\n",
    "\n",
    "Let's suppose we want to make a class representing a fruit. For now, we only define its name as an attribute:"
   ]
  },
  {
   "cell_type": "code",
   "execution_count": 19,
   "metadata": {
    "collapsed": true
   },
   "outputs": [],
   "source": [
    "class Fruit(object):\n",
    "    name = None"
   ]
  },
  {
   "cell_type": "markdown",
   "metadata": {},
   "source": [
    "We defined an attribute named `name` in the `Fruit` class. Let's investigate a bit."
   ]
  },
  {
   "cell_type": "code",
   "execution_count": 20,
   "metadata": {
    "collapsed": false
   },
   "outputs": [
    {
     "data": {
      "text/plain": [
       "['__class__',\n",
       " '__delattr__',\n",
       " '__dict__',\n",
       " '__doc__',\n",
       " '__format__',\n",
       " '__getattribute__',\n",
       " '__hash__',\n",
       " '__init__',\n",
       " '__module__',\n",
       " '__new__',\n",
       " '__reduce__',\n",
       " '__reduce_ex__',\n",
       " '__repr__',\n",
       " '__setattr__',\n",
       " '__sizeof__',\n",
       " '__str__',\n",
       " '__subclasshook__',\n",
       " '__weakref__',\n",
       " 'name']"
      ]
     },
     "execution_count": 20,
     "metadata": {},
     "output_type": "execute_result"
    }
   ],
   "source": [
    "dir(Fruit)"
   ]
  },
  {
   "cell_type": "code",
   "execution_count": 21,
   "metadata": {
    "collapsed": false
   },
   "outputs": [
    {
     "name": "stdout",
     "output_type": "stream",
     "text": [
      "None\n"
     ]
    }
   ],
   "source": [
    "print(Fruit.name)"
   ]
  },
  {
   "cell_type": "code",
   "execution_count": 22,
   "metadata": {
    "collapsed": false
   },
   "outputs": [
    {
     "name": "stdout",
     "output_type": "stream",
     "text": [
      "Default name: None\n",
      "Assigned name: Banana\n",
      "Fruit.name is still None\n"
     ]
    }
   ],
   "source": [
    "banana = Fruit()\n",
    "print(\"Default name:\", banana.name)\n",
    "banana.name = \"Banana\"\n",
    "print(\"Assigned name:\", banana.name)\n",
    "print(\"Fruit.name is still\", Fruit.name)"
   ]
  },
  {
   "cell_type": "markdown",
   "metadata": {},
   "source": [
    "We didn't really add much functionality here. But now, the attribute is defined and completely visible in the class, and is common to all `Fruit` instances we may create. This becomes very handy when we do the same for methods.\n",
    "\n",
    "<i class=\"fa fa-pull-left fa-pencil fa-2x fa-lg fa-flip-horizontal\"></i> Define `name` as an attribute of the `Pulsar class`. verify with the `test_class_attribute` function.\n",
    "\n",
    "### Define your own methods\n",
    "\n",
    "Let's do some (very simple) math. We want to define a `Sphere` class, with a `radius` attribute, and a `volume` method."
   ]
  },
  {
   "cell_type": "code",
   "execution_count": 23,
   "metadata": {
    "collapsed": true
   },
   "outputs": [],
   "source": [
    "from math import pi\n",
    "\n",
    "class Sphere(object):\n",
    "    radius = 1.0\n",
    "    \n",
    "    def volume(self):\n",
    "        return 4 / 3 * pi * self.radius**3"
   ]
  },
  {
   "cell_type": "markdown",
   "metadata": {},
   "source": [
    "What's that `self` argument to the method I just defined? This is the way methods are able to work on instances: their first argument will always be the instance itself (note that you do not need to call it `self`, it is just a convention). So when I call the `volume` method of a `Sphere`, the method knows from which object to get the radius:"
   ]
  },
  {
   "cell_type": "code",
   "execution_count": 24,
   "metadata": {
    "collapsed": false
   },
   "outputs": [
    {
     "name": "stdout",
     "output_type": "stream",
     "text": [
      "A sphere of radius 2 has a volume of 33.5103\n"
     ]
    }
   ],
   "source": [
    "s = Sphere()\n",
    "s.radius = 2.0\n",
    "vol = s.volume() # See? we don't pass s as an argument.\n",
    "print(\"A sphere of radius {:g} has a volume of {:g}\".format(s.radius, vol))"
   ]
  },
  {
   "cell_type": "markdown",
   "metadata": {},
   "source": [
    "We did not need to pass `s` to the `volume` method because the Python interpreter has already done for us when we created the instance. This is called **binding**:"
   ]
  },
  {
   "cell_type": "code",
   "execution_count": 25,
   "metadata": {
    "collapsed": false
   },
   "outputs": [
    {
     "data": {
      "text/plain": [
       "<unbound method Sphere.volume>"
      ]
     },
     "execution_count": 25,
     "metadata": {},
     "output_type": "execute_result"
    }
   ],
   "source": [
    "Sphere.volume"
   ]
  },
  {
   "cell_type": "code",
   "execution_count": 26,
   "metadata": {
    "collapsed": false
   },
   "outputs": [
    {
     "data": {
      "text/plain": [
       "<bound method Sphere.volume of <__main__.Sphere object at 0x7fc0db7a7850>>"
      ]
     },
     "execution_count": 26,
     "metadata": {},
     "output_type": "execute_result"
    }
   ],
   "source": [
    "s.volume"
   ]
  },
  {
   "cell_type": "markdown",
   "metadata": {},
   "source": [
    "When we look at the `volume` method directly in the `Sphere` class, Python tells us it is **unbound**, whereas it has been **bound** to `s` when we created it. Thus, `s.volume` is now a stand-alone function. Here's a somewhat silly example to illustrate this:"
   ]
  },
  {
   "cell_type": "code",
   "execution_count": 27,
   "metadata": {
    "collapsed": false
   },
   "outputs": [
    {
     "data": {
      "text/plain": [
       "33.510321638291124"
      ]
     },
     "execution_count": 27,
     "metadata": {},
     "output_type": "execute_result"
    }
   ],
   "source": [
    "def callfunc(f):\n",
    "    \"\"\"Call the function without an argument\"\"\"\n",
    "    return f()\n",
    "\n",
    "func = s.volume\n",
    "callfunc(func)"
   ]
  },
  {
   "cell_type": "markdown",
   "metadata": {},
   "source": [
    "<i class=\"fa fa-pull-left fa-pencil fa-2x fa-lg fa-flip-horizontal\"></i> Let's add some attributes to our `Pulsar` class: `coords` and `period`. Define a `prettyprint` method to print the `Pulsar`'s data in a nice way. You can look at the `test_prettyprint` function to see how it is intended to be used.\n",
    "\n",
    "## Getting more serious\n",
    "\n",
    "Now that you know how to define a class with methods and attributes, let's do fancier stuff with it. These concepts are a bit more advanced.\n",
    "\n",
    "### Constructor\n",
    "\n",
    "One important concept in practical object-oriented programming is the **constructor**. A constructor is a special method whose purpose is to initialize a newly created instance. Furthermore, a constructor being just like any other method, you can provide arguments to it. This enables you to set the initial values of some attributes when you create the instance in a convenient manner.\n",
    "\n",
    "In Python, the name of the constructor of a class is `__init__`. As I already said before, names with two underscores at the beginning and at the end have a special meaning."
   ]
  },
  {
   "cell_type": "code",
   "execution_count": 28,
   "metadata": {
    "collapsed": false
   },
   "outputs": [
    {
     "name": "stdout",
     "output_type": "stream",
     "text": [
      "The solar flux expected on Earth is 1367.57 W / m2\n"
     ]
    }
   ],
   "source": [
    "import astropy.units as U\n",
    "\n",
    "class Star(object):\n",
    "    luminosity = None\n",
    "    name = None\n",
    "    \n",
    "    def __init__(self, name, luminosity):\n",
    "        # You can for instance add some sanity checks here, as well as some initialization code\n",
    "        self.name = name\n",
    "        self.luminosity = luminosity\n",
    "    \n",
    "    def flux(self, distance):\n",
    "        return self.luminosity / (4 * pi * distance**2)\n",
    "\n",
    "sun = Star(\"Sun\", U.L_sun)\n",
    "earth_flux = sun.flux(U.AU)\n",
    "print(\"The solar flux expected on Earth is {:g}\".format(earth_flux.to(U.W / U.m**2)))"
   ]
  },
  {
   "cell_type": "markdown",
   "metadata": {},
   "source": [
    "<i class=\"fa fa-pull-left fa-pencil fa-2x fa-lg fa-flip-horizontal\"></i> Add a constructor to the Pulsar class, and fill in the `name` and `period` attributes. You can have a look at the `test_constructor` and `make_crab` functions.\n",
    "\n",
    "### Printing\n",
    "\n",
    "Ever wondered what happens when you try to print a custom instance ?"
   ]
  },
  {
   "cell_type": "code",
   "execution_count": 29,
   "metadata": {
    "collapsed": false
   },
   "outputs": [
    {
     "name": "stdout",
     "output_type": "stream",
     "text": [
      "<__main__.Star object at 0x7fc0d3f84790>\n"
     ]
    }
   ],
   "source": [
    "print(sun)"
   ]
  },
  {
   "cell_type": "markdown",
   "metadata": {},
   "source": [
    "That's a bit ugly. Thankfully, this can be overridden. To get a representation of the object, Python tries to call `repr` on it, which in turn calls its `__repr__` method. This method should return a string representing the object in a (relatively) short form. Some classes define their `__repr__` method to return actual Python code to create the object:"
   ]
  },
  {
   "cell_type": "code",
   "execution_count": 30,
   "metadata": {
    "collapsed": false
   },
   "outputs": [
    {
     "name": "stdout",
     "output_type": "stream",
     "text": [
      "u'This is a sample Unicode string \"\\'\\x07\\'\\t\\n\"'\n"
     ]
    }
   ],
   "source": [
    "print(repr(\"This is a sample Unicode string \\\"'\\a'\\t\\n\\\"\"))"
   ]
  },
  {
   "cell_type": "markdown",
   "metadata": {},
   "source": [
    "*Note:* You can also use `{!r}` along with the `format` method of string to call `repr` on an object.\n",
    "\n",
    "Sometimes, returning valid Python code would be cumbersome. Thus, you can also return an abstract representation:"
   ]
  },
  {
   "cell_type": "code",
   "execution_count": 31,
   "metadata": {
    "collapsed": false
   },
   "outputs": [
    {
     "name": "stdout",
     "output_type": "stream",
     "text": [
      "Types are abstract objects. Here's an example: <type 'list'>\n"
     ]
    }
   ],
   "source": [
    "print(\"Types are abstract objects. Here's an example: {!r}\".format(list))"
   ]
  },
  {
   "cell_type": "markdown",
   "metadata": {},
   "source": [
    "Let's create a dummy class with a `__repr__` method."
   ]
  },
  {
   "cell_type": "code",
   "execution_count": 32,
   "metadata": {
    "collapsed": true
   },
   "outputs": [],
   "source": [
    "class Representable(object):\n",
    "    def __init__(self, value):\n",
    "        self.value = value # note that you do not have to declare attributes\n",
    "        # it's safer to define everything at latest in the constructor...\n",
    "    \n",
    "    def __repr__(self):\n",
    "        # If you include external data, passing it to repr is a goo idea\n",
    "        return \"Representable({!r})\".format(self.value)"
   ]
  },
  {
   "cell_type": "markdown",
   "metadata": {},
   "source": [
    "Note that when you write an expression into the Python interpreter or a notebook cell, the printed value is the output of `repr`:"
   ]
  },
  {
   "cell_type": "code",
   "execution_count": 33,
   "metadata": {
    "collapsed": false
   },
   "outputs": [
    {
     "data": {
      "text/plain": [
       "Representable([0, 1, 4, 9, 16])"
      ]
     },
     "execution_count": 33,
     "metadata": {},
     "output_type": "execute_result"
    }
   ],
   "source": [
    "Representable([i**2 for i in range(5)])"
   ]
  },
  {
   "cell_type": "markdown",
   "metadata": {},
   "source": [
    "<i class=\"fa fa-pull-left fa-pencil fa-2x fa-lg fa-flip-horizontal\"></i> Add a `__repr__` method to the `Pulsar` class. See `test_repr`. The method does not need to return valid Python code.\n",
    "\n",
    "### Properties\n",
    "\n",
    "Before intoducing the concept of properties, let's come back to our `Star` class."
   ]
  },
  {
   "cell_type": "code",
   "execution_count": 34,
   "metadata": {
    "collapsed": false
   },
   "outputs": [
    {
     "data": {
      "text/latex": [
       "$1367.5669 \\; \\mathrm{\\frac{W}{m^{2}}}$"
      ],
      "text/plain": [
       "<Quantity 1367.5669346816564 W / m2>"
      ]
     },
     "execution_count": 34,
     "metadata": {},
     "output_type": "execute_result"
    }
   ],
   "source": [
    "star = Star(\"Fake sun\", U.Lsun)\n",
    "star.flux(U.AU).to(U.W / U.m**2)"
   ]
  },
  {
   "cell_type": "markdown",
   "metadata": {},
   "source": [
    "So far, so good. Now, what happens if we modify the luminosity, and put an invalid number?"
   ]
  },
  {
   "cell_type": "code",
   "execution_count": 35,
   "metadata": {
    "collapsed": false
   },
   "outputs": [
    {
     "ename": "ValueError",
     "evalue": "'invalid' did not parse as unit: At col 0, invalid is not a valid unit. ",
     "output_type": "error",
     "traceback": [
      "\u001b[1;31m---------------------------------------------------------------------------\u001b[0m",
      "\u001b[1;31mValueError\u001b[0m                                Traceback (most recent call last)",
      "\u001b[1;32m<ipython-input-35-a663344a28e9>\u001b[0m in \u001b[0;36m<module>\u001b[1;34m()\u001b[0m\n\u001b[0;32m      1\u001b[0m \u001b[0mstar\u001b[0m\u001b[1;33m.\u001b[0m\u001b[0mluminosity\u001b[0m \u001b[1;33m=\u001b[0m \u001b[1;34m\"invalid\"\u001b[0m\u001b[1;33m\u001b[0m\u001b[0m\n\u001b[1;32m----> 2\u001b[1;33m \u001b[0mstar\u001b[0m\u001b[1;33m.\u001b[0m\u001b[0mflux\u001b[0m\u001b[1;33m(\u001b[0m\u001b[0mU\u001b[0m\u001b[1;33m.\u001b[0m\u001b[0mAU\u001b[0m\u001b[1;33m)\u001b[0m\u001b[1;33m.\u001b[0m\u001b[0mto\u001b[0m\u001b[1;33m(\u001b[0m\u001b[0mU\u001b[0m\u001b[1;33m.\u001b[0m\u001b[0mW\u001b[0m \u001b[1;33m/\u001b[0m \u001b[0mU\u001b[0m\u001b[1;33m.\u001b[0m\u001b[0mm\u001b[0m\u001b[1;33m**\u001b[0m\u001b[1;36m2\u001b[0m\u001b[1;33m)\u001b[0m\u001b[1;33m\u001b[0m\u001b[0m\n\u001b[0m",
      "\u001b[1;32m<ipython-input-28-2a657e6b75a3>\u001b[0m in \u001b[0;36mflux\u001b[1;34m(self, distance)\u001b[0m\n\u001b[0;32m     11\u001b[0m \u001b[1;33m\u001b[0m\u001b[0m\n\u001b[0;32m     12\u001b[0m     \u001b[1;32mdef\u001b[0m \u001b[0mflux\u001b[0m\u001b[1;33m(\u001b[0m\u001b[0mself\u001b[0m\u001b[1;33m,\u001b[0m \u001b[0mdistance\u001b[0m\u001b[1;33m)\u001b[0m\u001b[1;33m:\u001b[0m\u001b[1;33m\u001b[0m\u001b[0m\n\u001b[1;32m---> 13\u001b[1;33m         \u001b[1;32mreturn\u001b[0m \u001b[0mself\u001b[0m\u001b[1;33m.\u001b[0m\u001b[0mluminosity\u001b[0m \u001b[1;33m/\u001b[0m \u001b[1;33m(\u001b[0m\u001b[1;36m4\u001b[0m \u001b[1;33m*\u001b[0m \u001b[0mpi\u001b[0m \u001b[1;33m*\u001b[0m \u001b[0mdistance\u001b[0m\u001b[1;33m**\u001b[0m\u001b[1;36m2\u001b[0m\u001b[1;33m)\u001b[0m\u001b[1;33m\u001b[0m\u001b[0m\n\u001b[0m\u001b[0;32m     14\u001b[0m \u001b[1;33m\u001b[0m\u001b[0m\n\u001b[0;32m     15\u001b[0m \u001b[0msun\u001b[0m \u001b[1;33m=\u001b[0m \u001b[0mStar\u001b[0m\u001b[1;33m(\u001b[0m\u001b[1;34m\"Sun\"\u001b[0m\u001b[1;33m,\u001b[0m \u001b[0mU\u001b[0m\u001b[1;33m.\u001b[0m\u001b[0mL_sun\u001b[0m\u001b[1;33m)\u001b[0m\u001b[1;33m\u001b[0m\u001b[0m\n",
      "\u001b[1;32m/local/home/oiffrig/.local/lib/python2.7/site-packages/astropy/units/quantity.pyc\u001b[0m in \u001b[0;36m__rtruediv__\u001b[1;34m(self, other)\u001b[0m\n\u001b[0;32m    812\u001b[0m     \u001b[1;32mdef\u001b[0m \u001b[0m__rtruediv__\u001b[0m\u001b[1;33m(\u001b[0m\u001b[0mself\u001b[0m\u001b[1;33m,\u001b[0m \u001b[0mother\u001b[0m\u001b[1;33m)\u001b[0m\u001b[1;33m:\u001b[0m\u001b[1;33m\u001b[0m\u001b[0m\n\u001b[0;32m    813\u001b[0m         \u001b[1;34m\"\"\" Division between `Quantity` objects. \"\"\"\u001b[0m\u001b[1;33m\u001b[0m\u001b[0m\n\u001b[1;32m--> 814\u001b[1;33m         \u001b[1;32mreturn\u001b[0m \u001b[0mself\u001b[0m\u001b[1;33m.\u001b[0m\u001b[0m__rdiv__\u001b[0m\u001b[1;33m(\u001b[0m\u001b[0mother\u001b[0m\u001b[1;33m)\u001b[0m\u001b[1;33m\u001b[0m\u001b[0m\n\u001b[0m\u001b[0;32m    815\u001b[0m \u001b[1;33m\u001b[0m\u001b[0m\n\u001b[0;32m    816\u001b[0m     \u001b[1;32mdef\u001b[0m \u001b[0m__divmod__\u001b[0m\u001b[1;33m(\u001b[0m\u001b[0mself\u001b[0m\u001b[1;33m,\u001b[0m \u001b[0mother\u001b[0m\u001b[1;33m)\u001b[0m\u001b[1;33m:\u001b[0m\u001b[1;33m\u001b[0m\u001b[0m\n",
      "\u001b[1;32m/local/home/oiffrig/.local/lib/python2.7/site-packages/astropy/units/quantity.pyc\u001b[0m in \u001b[0;36m__rdiv__\u001b[1;34m(self, other)\u001b[0m\n\u001b[0;32m    798\u001b[0m \u001b[1;33m\u001b[0m\u001b[0m\n\u001b[0;32m    799\u001b[0m         \u001b[1;32mif\u001b[0m \u001b[0misinstance\u001b[0m\u001b[1;33m(\u001b[0m\u001b[0mother\u001b[0m\u001b[1;33m,\u001b[0m \u001b[1;33m(\u001b[0m\u001b[0mUnitBase\u001b[0m\u001b[1;33m,\u001b[0m \u001b[0msix\u001b[0m\u001b[1;33m.\u001b[0m\u001b[0mstring_types\u001b[0m\u001b[1;33m)\u001b[0m\u001b[1;33m)\u001b[0m\u001b[1;33m:\u001b[0m\u001b[1;33m\u001b[0m\u001b[0m\n\u001b[1;32m--> 800\u001b[1;33m             \u001b[1;32mreturn\u001b[0m \u001b[0mself\u001b[0m\u001b[1;33m.\u001b[0m\u001b[0m_new_view\u001b[0m\u001b[1;33m(\u001b[0m\u001b[1;36m1.\u001b[0m \u001b[1;33m/\u001b[0m \u001b[0mself\u001b[0m\u001b[1;33m.\u001b[0m\u001b[0mvalue\u001b[0m\u001b[1;33m,\u001b[0m \u001b[0mother\u001b[0m \u001b[1;33m/\u001b[0m \u001b[0mself\u001b[0m\u001b[1;33m.\u001b[0m\u001b[0munit\u001b[0m\u001b[1;33m)\u001b[0m\u001b[1;33m\u001b[0m\u001b[0m\n\u001b[0m\u001b[0;32m    801\u001b[0m \u001b[1;33m\u001b[0m\u001b[0m\n\u001b[0;32m    802\u001b[0m         \u001b[1;32mreturn\u001b[0m \u001b[0mnp\u001b[0m\u001b[1;33m.\u001b[0m\u001b[0mdivide\u001b[0m\u001b[1;33m(\u001b[0m\u001b[0mother\u001b[0m\u001b[1;33m,\u001b[0m \u001b[0mself\u001b[0m\u001b[1;33m)\u001b[0m\u001b[1;33m\u001b[0m\u001b[0m\n",
      "\u001b[1;32m/local/home/oiffrig/.local/lib/python2.7/site-packages/astropy/units/core.pyc\u001b[0m in \u001b[0;36m__rdiv__\u001b[1;34m(self, m)\u001b[0m\n\u001b[0;32m    639\u001b[0m     \u001b[1;32mdef\u001b[0m \u001b[0m__rdiv__\u001b[0m\u001b[1;33m(\u001b[0m\u001b[0mself\u001b[0m\u001b[1;33m,\u001b[0m \u001b[0mm\u001b[0m\u001b[1;33m)\u001b[0m\u001b[1;33m:\u001b[0m\u001b[1;33m\u001b[0m\u001b[0m\n\u001b[0;32m    640\u001b[0m         \u001b[1;32mif\u001b[0m \u001b[0misinstance\u001b[0m\u001b[1;33m(\u001b[0m\u001b[0mm\u001b[0m\u001b[1;33m,\u001b[0m \u001b[1;33m(\u001b[0m\u001b[0mbytes\u001b[0m\u001b[1;33m,\u001b[0m \u001b[0msix\u001b[0m\u001b[1;33m.\u001b[0m\u001b[0mtext_type\u001b[0m\u001b[1;33m)\u001b[0m\u001b[1;33m)\u001b[0m\u001b[1;33m:\u001b[0m\u001b[1;33m\u001b[0m\u001b[0m\n\u001b[1;32m--> 641\u001b[1;33m             \u001b[1;32mreturn\u001b[0m \u001b[0mUnit\u001b[0m\u001b[1;33m(\u001b[0m\u001b[0mm\u001b[0m\u001b[1;33m)\u001b[0m \u001b[1;33m/\u001b[0m \u001b[0mself\u001b[0m\u001b[1;33m\u001b[0m\u001b[0m\n\u001b[0m\u001b[0;32m    642\u001b[0m \u001b[1;33m\u001b[0m\u001b[0m\n\u001b[0;32m    643\u001b[0m         \u001b[1;31m# Cannot handle this as Unit.  Here, m cannot be a Quantity,\u001b[0m\u001b[1;33m\u001b[0m\u001b[1;33m\u001b[0m\u001b[0m\n",
      "\u001b[1;32m/local/home/oiffrig/.local/lib/python2.7/site-packages/astropy/units/core.pyc\u001b[0m in \u001b[0;36m__call__\u001b[1;34m(self, s, represents, format, namespace, doc, parse_strict)\u001b[0m\n\u001b[0;32m   1781\u001b[0m                            .format(s, format_clause, six.text_type(e)))\n\u001b[0;32m   1782\u001b[0m                     \u001b[1;32mif\u001b[0m \u001b[0mparse_strict\u001b[0m \u001b[1;33m==\u001b[0m \u001b[1;34m'raise'\u001b[0m\u001b[1;33m:\u001b[0m\u001b[1;33m\u001b[0m\u001b[0m\n\u001b[1;32m-> 1783\u001b[1;33m                         \u001b[1;32mraise\u001b[0m \u001b[0mValueError\u001b[0m\u001b[1;33m(\u001b[0m\u001b[0mmsg\u001b[0m\u001b[1;33m)\u001b[0m\u001b[1;33m\u001b[0m\u001b[0m\n\u001b[0m\u001b[0;32m   1784\u001b[0m                     \u001b[1;32melif\u001b[0m \u001b[0mparse_strict\u001b[0m \u001b[1;33m==\u001b[0m \u001b[1;34m'warn'\u001b[0m\u001b[1;33m:\u001b[0m\u001b[1;33m\u001b[0m\u001b[0m\n\u001b[0;32m   1785\u001b[0m                         \u001b[0mwarnings\u001b[0m\u001b[1;33m.\u001b[0m\u001b[0mwarn\u001b[0m\u001b[1;33m(\u001b[0m\u001b[0mmsg\u001b[0m\u001b[1;33m,\u001b[0m \u001b[0mUnitsWarning\u001b[0m\u001b[1;33m)\u001b[0m\u001b[1;33m\u001b[0m\u001b[0m\n",
      "\u001b[1;31mValueError\u001b[0m: 'invalid' did not parse as unit: At col 0, invalid is not a valid unit. "
     ]
    }
   ],
   "source": [
    "star.luminosity = \"invalid\"\n",
    "star.flux(U.AU).to(U.W / U.m**2)"
   ]
  },
  {
   "cell_type": "markdown",
   "metadata": {},
   "source": [
    "Boom. That's not very convenient. We may want to add a check before doing calculations in the `flux` method. But then, if we want to implement some other method depending on the luminosity, we will encounter the same problem... and have to write the same code again and again. Couldn't we just prevent the user to set the `luminosity` attribute to invalid values?\n",
    "\n",
    "From a technical point of view, attributes are just like variables, that means anyone can put anything inside, or worse, delete them. If we want more control, we need to allow only indirect access. Either we \"hide\" the real attribute in the class (many people use a leading underscore to say \"internal attribute, modify at your own risk\") and use methods to access its value (if you used classes in C++ or Java for instance, this is very common, except that in Python there is no such thing as private variables), or we use a very useful Python-specific concept called **properties**. A property behaves like an attribute, but you can completely control what happens when the user wants to get, set or delete the value contained in it. Actually, properties are just a shortcut for the usual *getter / setter* paradigm.\n",
    "\n",
    "A property consists of three methods:\n",
    "* a *getter*, which is called without argument and returns the value of the property,\n",
    "* a *setter*, which is called with the new value of the property when the user wants to change it,\n",
    "* a *deleter*, which is called without argument when the user tries to delete the attribute (`del instance.attr`).\n",
    "\n",
    "Not setting one of these functions means the associated action is not possible. Let's play with this, defining a talkative property which will print a message whenever it is accessed."
   ]
  },
  {
   "cell_type": "code",
   "execution_count": 36,
   "metadata": {
    "collapsed": true
   },
   "outputs": [],
   "source": [
    "class Talkative(object):\n",
    "    def __init__(self, x):\n",
    "        print(\"Created with x = %r\" % x)\n",
    "        self._x = x\n",
    "\n",
    "    def getx(self): # This will be the getter\n",
    "        print(\"The user asked for x.\")\n",
    "        return self._x\n",
    "    \n",
    "    def setx(self, new_x): # This will be the setter\n",
    "        print(\"The user wants to set x to %r.\" % new_x)\n",
    "        self._x = new_x\n",
    "    \n",
    "    def delx(self): # This will be the deleter\n",
    "        print(\"The user wants to delete x.\")\n",
    "        del self._x\n",
    "    \n",
    "    # The actual property definition, the last argument is a docstring.\n",
    "    x = property(getx, setx, delx, \"A very talkative property.\")"
   ]
  },
  {
   "cell_type": "markdown",
   "metadata": {},
   "source": [
    "A quick explanation of what we did here:\n",
    "* We define a \"hidden\" attribute `_x` to hold the real value\n",
    "* We define a *getter* method returning the value\n",
    "* We define a *setter* method modifying the value\n",
    "* We define a *deleter* method deleting the value (note that this is rarely a good idea)\n",
    "* We gather these 3 methods in a *property*\n",
    "\n",
    "In case you do not want to allow one of the 3 operations (get, set, delete), you can pass None (the default value) for it to the `property` constructor (it's a class, but the technical details of how it works are far beyond the scope of this workshop). For instance, you could have written\n",
    "```python\n",
    "x = property(getx, doc=\"A read-only property\")\n",
    "```\n",
    "\n",
    "There is also an interesting shortcut with a *decorator*. A decorator is a function modifying another function before defining it. The two following code snippets are equivalent:\n",
    "\n",
    "```python\n",
    "@decorator\n",
    "def func(x):\n",
    "    pass\n",
    "```\n",
    "\n",
    "and\n",
    "\n",
    "```python\n",
    "def func(x):\n",
    "    pass\n",
    "\n",
    "func = decorator(func)\n",
    "```\n",
    "\n",
    "We can define a property with decorators like this:\n",
    "\n",
    "```python\n",
    "@property\n",
    "def x(self):\n",
    "    \"\"\"The 'x' property\"\"\"\n",
    "    return self._x\n",
    "\n",
    "@x.setter\n",
    "def x(self, value): # Note the setter is also called 'x'\n",
    "    self._x = value\n",
    "\n",
    "@x.deleter\n",
    "def x(self):\n",
    "    del self._x\n",
    "```"
   ]
  },
  {
   "cell_type": "code",
   "execution_count": 37,
   "metadata": {
    "collapsed": false
   },
   "outputs": [
    {
     "name": "stdout",
     "output_type": "stream",
     "text": [
      "Created with x = 3\n",
      "The user asked for x.\n",
      "3\n",
      "The user wants to set x to 4.\n",
      "The user asked for x.\n",
      "4\n",
      "The user wants to delete x.\n"
     ]
    }
   ],
   "source": [
    "inst = Talkative(3)\n",
    "print(inst.x)\n",
    "inst.x = 4\n",
    "print(inst.x)\n",
    "del inst.x"
   ]
  },
  {
   "cell_type": "markdown",
   "metadata": {},
   "source": [
    "Besides the ability to restrict what the user can do with properties, an interesting feature is the ability to handle relations between attributes, for instance for properties which are related by a mathematical relation:"
   ]
  },
  {
   "cell_type": "code",
   "execution_count": 38,
   "metadata": {
    "collapsed": false
   },
   "outputs": [
    {
     "name": "stdout",
     "output_type": "stream",
     "text": [
      "The wave velocity is 2.99792e+08 m / s. Its wavelength is 300 nm and its frequency is 9.99308e+14 Hz.\n",
      "The wave velocity is 2.99792e+08 m / s. Its wavelength is 2997.92 nm and its frequency is 1e+14 Hz.\n"
     ]
    }
   ],
   "source": [
    "class Wave(object):\n",
    "    def __init__(self, speed, wavelength=None, frequency=None):\n",
    "        if (wavelength is None and frequency is None) or \\\n",
    "           (wavelength is not None and frequency is not None):\n",
    "            raise ValueError(\"Exactly one of 'wavelength' and 'frequency' has to be set\")\n",
    "        \n",
    "        self.speed = speed\n",
    "\n",
    "        if wavelength is not None:\n",
    "            self._lambda = wavelength\n",
    "        else:\n",
    "            self._lambda = speed / frequency\n",
    "    \n",
    "    def describe(self):\n",
    "        print(\"The wave velocity is {:g}. Its wavelength is {:g} and its frequency is {:g}.\" \\\n",
    "              .format(self.speed, self.wavelength.to(U.nm), self.frequency.to(U.Hz)))\n",
    "    \n",
    "    @property\n",
    "    def wavelength(self):\n",
    "        return self._lambda\n",
    "    @wavelength.setter\n",
    "    def wavelength(self, value):\n",
    "        self._lambda = value\n",
    "    \n",
    "    @property\n",
    "    def frequency(self):\n",
    "        return self.speed / self._lambda\n",
    "    @frequency.setter\n",
    "    def frequency(self, value):\n",
    "        self._lambda = self.speed / value\n",
    "\n",
    "import astropy.constants as cst\n",
    "w = Wave(cst.c, wavelength=300 * U.nm)\n",
    "w.describe()\n",
    "w.frequency = 1e14 * U.Hz\n",
    "w.describe()"
   ]
  },
  {
   "cell_type": "markdown",
   "metadata": {},
   "source": [
    "We did not define deleters, thus the user cannot delete the attributes:"
   ]
  },
  {
   "cell_type": "code",
   "execution_count": 39,
   "metadata": {
    "collapsed": false
   },
   "outputs": [
    {
     "ename": "AttributeError",
     "evalue": "can't delete attribute",
     "output_type": "error",
     "traceback": [
      "\u001b[1;31m---------------------------------------------------------------------------\u001b[0m",
      "\u001b[1;31mAttributeError\u001b[0m                            Traceback (most recent call last)",
      "\u001b[1;32m<ipython-input-39-71a782d7de66>\u001b[0m in \u001b[0;36m<module>\u001b[1;34m()\u001b[0m\n\u001b[1;32m----> 1\u001b[1;33m \u001b[1;32mdel\u001b[0m \u001b[0mw\u001b[0m\u001b[1;33m.\u001b[0m\u001b[0mwavelength\u001b[0m\u001b[1;33m\u001b[0m\u001b[0m\n\u001b[0m",
      "\u001b[1;31mAttributeError\u001b[0m: can't delete attribute"
     ]
    }
   ],
   "source": [
    "del w.wavelength"
   ]
  },
  {
   "cell_type": "markdown",
   "metadata": {},
   "source": [
    "<i class=\"fa fa-pull-left fa-pencil fa-2x fa-lg fa-flip-horizontal\"></i> Add a `frequency` property to the Pulsar class. Also add `frequency_derivative` and `period_derivative` (don't forget to modify `prettyprint` and `__init__`). See `test_property`.\n",
    "\n",
    "## Class methods\n",
    "\n",
    "As we already saw, classes are the recommended way of grouping data and function acting on these data. Sometimes, you may want to store data related to the class, but not dependent of a particular instance. For example, there may be several ways to create an object. This is not dependent on a particular instance (you don't need an instance to create an instance, you need the class), so that a plain method is not a completely correct choice (although it would indeed work). Spoiler: suppose we want to define a function that creates `Pulsar` objects from a given catalog. This function is strongly linked to the class, but not to any particular instance.\n",
    "\n",
    "If you ask a C++ or Java programmer, the answer you may get is to use a **static** method. Static methods are very close to plain functions: they do not need to access the data in a particular instance. Thus, you can call them directly from the class (`MyClass::MyStatic()`). In Python, there exist two kinds of \"static\" methods. The \"real\" static methods, defined with the `staticmethod` decorator:"
   ]
  },
  {
   "cell_type": "code",
   "execution_count": null,
   "metadata": {
    "collapsed": true
   },
   "outputs": [],
   "source": [
    "class MyStatic(object):\n",
    "    def __init__(self, x):\n",
    "        print(\"x = {!r}\".format(x))\n",
    "    \n",
    "    @staticmethod\n",
    "    def create(x): # Note the absence of the 'self' parameter\n",
    "        return MyStatic([x])"
   ]
  },
  {
   "cell_type": "code",
   "execution_count": null,
   "metadata": {
    "collapsed": false
   },
   "outputs": [],
   "source": [
    "u = MyStatic.create(3)"
   ]
  },
  {
   "cell_type": "code",
   "execution_count": null,
   "metadata": {
    "collapsed": false
   },
   "outputs": [],
   "source": [
    "v = MyStatic(3)"
   ]
  },
  {
   "cell_type": "markdown",
   "metadata": {},
   "source": [
    "Static methods are very easy to define. One thing you may have thought of is that static methods may probably want to refer to the class in some way. Although this can be done explicitly when you know the class name, there are some cases when the situation is a bit more complicated (there is a process called *inheritance* where you can define a class as an extension of another, but this is beyond the scope of this course). Therefore, a convenient way to handle the class would be to get a reference to the class object, just like we get a reference to the instance when we define a method. Such special methods are called **class methods**, and defined via the `classmethod` decorator:"
   ]
  },
  {
   "cell_type": "code",
   "execution_count": null,
   "metadata": {
    "collapsed": true
   },
   "outputs": [],
   "source": [
    "class MyClass(object):\n",
    "    instance_count = 0\n",
    "    \n",
    "    def __init__(self, x):\n",
    "        print(\"x = {!r}\".format(x))\n",
    "    \n",
    "    @classmethod\n",
    "    def create(cls, x): # We get the class as a parameter, named 'cls' by convention\n",
    "        cls.instance_count += 1\n",
    "        return cls(x)"
   ]
  },
  {
   "cell_type": "code",
   "execution_count": null,
   "metadata": {
    "collapsed": false
   },
   "outputs": [],
   "source": [
    "u = MyClass(3)\n",
    "MyClass.instance_count"
   ]
  },
  {
   "cell_type": "code",
   "execution_count": null,
   "metadata": {
    "collapsed": false
   },
   "outputs": [],
   "source": [
    "v = MyClass.create(3)\n",
    "MyClass.instance_count"
   ]
  },
  {
   "cell_type": "markdown",
   "metadata": {},
   "source": [
    "Here, we used the reference to the class to keep the number of instances we created using our static method.\n",
    "\n",
    "*Note:* If you really wanted to keep a track of every single instance, you can use the special class method `__new__`, which is called to create the new instance, before calling its constructor.\n",
    "\n",
    "<i class=\"fa fa-pull-left fa-archive fa-2x fa-lg\"></i> You should have a `atnf.xml` file with the class material. This contains a [VOTable](http://www.ivoa.net/documents/latest/VOT.html) of pulsars from the [ATNF Pulsar Database](http://www.atnf.csiro.au/research/pulsar/psrcat/). You can read it using `astropy`:"
   ]
  },
  {
   "cell_type": "code",
   "execution_count": null,
   "metadata": {
    "collapsed": false
   },
   "outputs": [],
   "source": [
    "import astropy.table as T\n",
    "\n",
    "atnf = T.Table.read(\"atnf.xml\")\n",
    "atnf"
   ]
  },
  {
   "cell_type": "code",
   "execution_count": null,
   "metadata": {
    "collapsed": false
   },
   "outputs": [],
   "source": [
    "%matplotlib inline\n",
    "import astropy.coordinates as C\n",
    "import matplotlib.pyplot as plt\n",
    "\n",
    "# Extract the RA, DEC coordinates\n",
    "ra = C.Angle(atnf['RAJ'] * atnf['RAJ'].unit)\n",
    "dec = C.Angle(atnf['DECJ'] * atnf['DECJ'].unit)\n",
    "\n",
    "# Convert to galactic coordinates\n",
    "coords = C.SkyCoord(ra=ra, dec=dec, frame='icrs').galactic\n",
    "glon = coords.l\n",
    "glat = coords.b\n",
    "\n",
    "# The galactic longitude is given between 0° and 360°, convert it to be between -180° and 180°\n",
    "glon = glon.wrap_at(180 * U.degree)\n",
    "\n",
    "# Plot the map\n",
    "fig = plt.figure(figsize=(16,6))\n",
    "ax = fig.add_subplot(121, projection=\"aitoff\")\n",
    "ax.scatter(glon.radian, glat.radian, alpha=0.25)\n",
    "ax.set_xticklabels([], visible=False)\n",
    "ax.set_yticklabels([], visible=False)\n",
    "ax.grid(True)\n",
    "title = ax.set_title(\"Sky map of the pulsar sample (galactic coordinates)\")\n",
    "\n",
    "ax2 = fig.add_subplot(122)\n",
    "ax2.set_xscale('log')\n",
    "ax2.set_yscale('log')\n",
    "mask = atnf['P1'] > 0 # Filter out pulsars with unknown frequency derivative\n",
    "ax2.scatter(atnf['P0'][mask], atnf['P1'][mask] * atnf['P1'].unit.to(U.s / U.yr), alpha=0.25)\n",
    "ax2.set_xlabel('Period (s)')\n",
    "ax2.set_ylabel('Period derivative (s / yr)')"
   ]
  },
  {
   "cell_type": "markdown",
   "metadata": {},
   "source": [
    "<i class=\"fa fa-pull-left fa-pencil fa-2x fa-lg fa-flip-horizontal\"></i> Add the following attributes to the `Pulsar` class:\n",
    "* a `catalog` attribute (that will contain the catalog we read),\n",
    "* a `read_catalog` class method that reads the catalog file given as an argument and stores it into `catalog`,\n",
    "* a `from_catalog` class method that looks for a given pulsar name in the catalog and creates the associated `Pulsar` instance.\n",
    "\n",
    "The `test_classmethod` function will allow you to check that it works.\n",
    "\n",
    "## Conclusion\n",
    "\n",
    "<i class=\"fa fa-pull-left fa-pencil fa-2x fa-lg fa-flip-horizontal\"></i> Add a `from_catalog_row` class method, taking a given row of the catalog and creating a `Pulsar` object from it (you should already have written this code ;-) ). Then, check that everything works with the `test_full` function.\n",
    "\n",
    "That's all for this course. You now have the basics to play around with classes. There is a lot more you can do with classes, but you should (at least I hope so!) already have learned a lot. Amongst the interesting topics to go further are:\n",
    "* Operator overloading, and other special methods (see below for a quick reference)\n",
    "* Inheritance (how to have a type hierarchy, adding functionality at each level)\n",
    "* Mixins, a way to add functionality to a class (not sure if it's really a good practice)\n",
    "* Descriptors (**difficult**), a.k.a. the machinery behind properties, static methods and class methods\n",
    "* Metaclasses (**even more difficult**), a.k.a. type types (a.k.a. black magic)\n",
    "\n",
    "If I have the time, there will be a second class on classes, about inheritance.\n",
    "\n",
    "Stay tuned for the next Python@SAp workshops!\n",
    "\n",
    "There's also a Python mailing-list at SAp now. Don't hesitate to contact us if you want to subscribe."
   ]
  },
  {
   "cell_type": "markdown",
   "metadata": {},
   "source": [
    "## Bonus: Some interesting special methods\n",
    "\n",
    "I already showed you the special method `__repr__`, which is called when you want to represent an instance. There are a few more methods that allow you to customize the interaction with your class and the Python interpreter:\n",
    "\n",
    "### Conversion\n",
    "\n",
    "Name          | Expression  \n",
    "------------- | ------------\n",
    "`__str__`     | `str(x)`\n",
    "`__unicode__` | `unicode(x)`\n",
    "`__int__`     | `int(x)`\n",
    "`__nonzero__` | `bool(x)`\n",
    "\n",
    "### Containers\n",
    "\n",
    "Name           | Expression\n",
    "-------------- | -----------\n",
    "`__contains__` | `x in a`\n",
    "`__len__`      | `len(a)`\n",
    "`__getitem__`  | `a[i]`\n",
    "`__setitem__`  | `a[i] = x`\n",
    "`__delitem__`  | `del a[i]`\n",
    "\n",
    "### Comparison\n",
    "\n",
    "Name      | Expression\n",
    "--------- | ----------\n",
    "`__eq__`  | `x == y`\n",
    "`__neq__` | `x != y`\n",
    "`__lt__`  | `x <  y`\n",
    "`__gt__`  | `x >  y`\n",
    "`__le__`  | `x <= y`\n",
    "`__ge__`  | `x >= y`\n",
    "\n",
    "### Arithmetics\n",
    "\n",
    "Name       | Expression | Note\n",
    "---------- | ---------- | -------------------------------------------------------------------\n",
    "`__add__`  | `x + y`    |\n",
    "`__sub__`  | `x - y`    |\n",
    "`__mul__`  | `x * y`    |\n",
    "`__div__`  | `x / y`    |\n",
    "`__mod__`  | `x % y`    |\n",
    "`__iadd__` | `x += y`   | also `__isub__`, `__imul__`, ...\n",
    "`__radd__` | `y + x`    | also `__rsub__`, `__rmul__`, ..., called on `x` when `y` has no `__add__`\n",
    "\n",
    "There are even more, described on https://docs.python.org/2.7/reference/datamodel.html#special-method-names"
   ]
  },
  {
   "cell_type": "code",
   "execution_count": null,
   "metadata": {
    "collapsed": true
   },
   "outputs": [],
   "source": []
  }
 ],
 "metadata": {
  "kernelspec": {
   "display_name": "Python 2",
   "language": "python",
   "name": "python2"
  },
  "language_info": {
   "codemirror_mode": {
    "name": "ipython",
    "version": 2
   },
   "file_extension": ".py",
   "mimetype": "text/x-python",
   "name": "python",
   "nbconvert_exporter": "python",
   "pygments_lexer": "ipython2",
   "version": "2.7.9"
  }
 },
 "nbformat": 4,
 "nbformat_minor": 0
}
